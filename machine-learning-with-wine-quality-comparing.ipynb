{
 "cells": [
  {
   "cell_type": "markdown",
   "id": "157ec11c",
   "metadata": {
    "papermill": {
     "duration": 0.007804,
     "end_time": "2022-06-27T17:44:48.146769",
     "exception": false,
     "start_time": "2022-06-27T17:44:48.138965",
     "status": "completed"
    },
    "tags": []
   },
   "source": [
    "## Machine Learning with Wine Quality comparing using multiple Support Vector Machine kernel"
   ]
  },
  {
   "cell_type": "markdown",
   "id": "763a2704",
   "metadata": {
    "papermill": {
     "duration": 0.007017,
     "end_time": "2022-06-27T17:44:48.160712",
     "exception": false,
     "start_time": "2022-06-27T17:44:48.153695",
     "status": "completed"
    },
    "tags": []
   },
   "source": [
    "### Import key packages and load data"
   ]
  },
  {
   "cell_type": "code",
   "execution_count": 1,
   "id": "fbc031bb",
   "metadata": {
    "_cell_guid": "b1076dfc-b9ad-4769-8c92-a6c4dae69d19",
    "_uuid": "8f2839f25d086af736a60e9eeb907d3b93b6e0e5",
    "execution": {
     "iopub.execute_input": "2022-06-27T17:44:48.176144Z",
     "iopub.status.busy": "2022-06-27T17:44:48.175610Z",
     "iopub.status.idle": "2022-06-27T17:44:49.697588Z",
     "shell.execute_reply": "2022-06-27T17:44:49.696541Z"
    },
    "papermill": {
     "duration": 1.533717,
     "end_time": "2022-06-27T17:44:49.701041",
     "exception": false,
     "start_time": "2022-06-27T17:44:48.167324",
     "status": "completed"
    },
    "tags": []
   },
   "outputs": [
    {
     "name": "stdout",
     "output_type": "stream",
     "text": [
      "   fixed acidity  volatile acidity  citric acid  residual sugar  chlorides  \\\n",
      "0            7.4              0.70         0.00             1.9      0.076   \n",
      "1            7.8              0.88         0.00             2.6      0.098   \n",
      "2            7.8              0.76         0.04             2.3      0.092   \n",
      "3           11.2              0.28         0.56             1.9      0.075   \n",
      "4            7.4              0.70         0.00             1.9      0.076   \n",
      "5            7.4              0.66         0.00             1.8      0.075   \n",
      "6            7.9              0.60         0.06             1.6      0.069   \n",
      "7            7.3              0.65         0.00             1.2      0.065   \n",
      "8            7.8              0.58         0.02             2.0      0.073   \n",
      "9            7.5              0.50         0.36             6.1      0.071   \n",
      "\n",
      "   free sulfur dioxide  total sulfur dioxide  density    pH  sulphates  \\\n",
      "0                 11.0                  34.0   0.9978  3.51       0.56   \n",
      "1                 25.0                  67.0   0.9968  3.20       0.68   \n",
      "2                 15.0                  54.0   0.9970  3.26       0.65   \n",
      "3                 17.0                  60.0   0.9980  3.16       0.58   \n",
      "4                 11.0                  34.0   0.9978  3.51       0.56   \n",
      "5                 13.0                  40.0   0.9978  3.51       0.56   \n",
      "6                 15.0                  59.0   0.9964  3.30       0.46   \n",
      "7                 15.0                  21.0   0.9946  3.39       0.47   \n",
      "8                  9.0                  18.0   0.9968  3.36       0.57   \n",
      "9                 17.0                 102.0   0.9978  3.35       0.80   \n",
      "\n",
      "   alcohol  quality  \n",
      "0      9.4        5  \n",
      "1      9.8        5  \n",
      "2      9.8        5  \n",
      "3      9.8        6  \n",
      "4      9.4        5  \n",
      "5      9.4        5  \n",
      "6      9.4        5  \n",
      "7     10.0        7  \n",
      "8      9.5        7  \n",
      "9     10.5        5  \n",
      "(1599, 12)\n",
      "<class 'pandas.core.frame.DataFrame'>\n",
      "RangeIndex: 1599 entries, 0 to 1598\n",
      "Data columns (total 12 columns):\n",
      " #   Column                Non-Null Count  Dtype  \n",
      "---  ------                --------------  -----  \n",
      " 0   fixed acidity         1599 non-null   float64\n",
      " 1   volatile acidity      1599 non-null   float64\n",
      " 2   citric acid           1599 non-null   float64\n",
      " 3   residual sugar        1599 non-null   float64\n",
      " 4   chlorides             1599 non-null   float64\n",
      " 5   free sulfur dioxide   1599 non-null   float64\n",
      " 6   total sulfur dioxide  1599 non-null   float64\n",
      " 7   density               1599 non-null   float64\n",
      " 8   pH                    1599 non-null   float64\n",
      " 9   sulphates             1599 non-null   float64\n",
      " 10  alcohol               1599 non-null   float64\n",
      " 11  quality               1599 non-null   int64  \n",
      "dtypes: float64(11), int64(1)\n",
      "memory usage: 150.0 KB\n"
     ]
    }
   ],
   "source": [
    "# This Python 3 environment comes with many helpful analytics libraries installed\n",
    "# It is defined by the kaggle/python Docker image: https://github.com/kaggle/docker-python\n",
    "\n",
    "# Libraries needed for data Analysis \n",
    "import numpy as np # linear algebra\n",
    "import pandas as pd # data processing, CSV file I/O (e.g. pd.read_csv)\n",
    "\n",
    "# # Libraries needed for model and visualization\n",
    "from sklearn.preprocessing import StandardScaler, LabelEncoder\n",
    "from sklearn.model_selection import train_test_split\n",
    "from sklearn.ensemble import RandomForestClassifier , AdaBoostClassifier\n",
    "from sklearn.neighbors import KNeighborsClassifier\n",
    "from sklearn.linear_model import LogisticRegression\n",
    "from sklearn.model_selection import GridSearchCV\n",
    "from sklearn.naive_bayes import GaussianNB\n",
    "from sklearn.svm import SVC\n",
    "from sklearn.tree import DecisionTreeClassifier \n",
    "from sklearn.model_selection import cross_val_score\n",
    "from sklearn.model_selection import KFold \n",
    "from sklearn.metrics import confusion_matrix, classification_report, make_scorer, accuracy_score\n",
    "import matplotlib.pyplot as plt # plots \n",
    "import seaborn as sns\n",
    "#%matplotlib inline # will make your plot outputs appear and be stored within the notebook.\n",
    "\n",
    "# Input data files are available in the read-only \"../input/\" directory\n",
    "# For example, running this (by clicking run or pressing Shift+Enter) will list all files under the input directory\n",
    "\n",
    "# Load in the red wine data from kaggle.\n",
    "df = pd.read_csv('../input/red-wine-quality-cortez-et-al-2009/winequality-red.csv',sep=',')\n",
    "\n",
    "# Review data\n",
    "print(df.head(10))\n",
    "# Data dimensionality (rows, colums)\n",
    "print(df.shape)\n",
    "# Data distributing\n",
    "df.info()\n",
    "\n",
    "# You can write up to 20GB to the current directory (/kaggle/working/) that gets preserved as output when you create a version using \"Save & Run All\" \n",
    "# You can also write temporary files to /kaggle/temp/, but they won't be saved outside of the current session"
   ]
  },
  {
   "cell_type": "markdown",
   "id": "7b3f4162",
   "metadata": {
    "papermill": {
     "duration": 0.00672,
     "end_time": "2022-06-27T17:44:49.715236",
     "exception": false,
     "start_time": "2022-06-27T17:44:49.708516",
     "status": "completed"
    },
    "tags": []
   },
   "source": [
    "### Check the nulls"
   ]
  },
  {
   "cell_type": "code",
   "execution_count": 2,
   "id": "79be92dc",
   "metadata": {
    "execution": {
     "iopub.execute_input": "2022-06-27T17:44:49.730872Z",
     "iopub.status.busy": "2022-06-27T17:44:49.729418Z",
     "iopub.status.idle": "2022-06-27T17:44:49.737672Z",
     "shell.execute_reply": "2022-06-27T17:44:49.736412Z"
    },
    "papermill": {
     "duration": 0.019178,
     "end_time": "2022-06-27T17:44:49.740854",
     "exception": false,
     "start_time": "2022-06-27T17:44:49.721676",
     "status": "completed"
    },
    "tags": []
   },
   "outputs": [
    {
     "name": "stdout",
     "output_type": "stream",
     "text": [
      "Total Null values in the dataset :  0\n"
     ]
    }
   ],
   "source": [
    "print('Total Null values in the dataset : ',df.isna().sum().sum())"
   ]
  },
  {
   "cell_type": "markdown",
   "id": "f7aa7276",
   "metadata": {
    "papermill": {
     "duration": 0.006514,
     "end_time": "2022-06-27T17:44:49.755350",
     "exception": false,
     "start_time": "2022-06-27T17:44:49.748836",
     "status": "completed"
    },
    "tags": []
   },
   "source": [
    "### Check the dupes"
   ]
  },
  {
   "cell_type": "code",
   "execution_count": 3,
   "id": "55a7c7ce",
   "metadata": {
    "execution": {
     "iopub.execute_input": "2022-06-27T17:44:49.770344Z",
     "iopub.status.busy": "2022-06-27T17:44:49.769883Z",
     "iopub.status.idle": "2022-06-27T17:44:49.780902Z",
     "shell.execute_reply": "2022-06-27T17:44:49.779839Z"
    },
    "papermill": {
     "duration": 0.020906,
     "end_time": "2022-06-27T17:44:49.783045",
     "exception": false,
     "start_time": "2022-06-27T17:44:49.762139",
     "status": "completed"
    },
    "tags": []
   },
   "outputs": [
    {
     "name": "stdout",
     "output_type": "stream",
     "text": [
      "Total duplicate values in the dataset :  240\n"
     ]
    }
   ],
   "source": [
    "print('Total duplicate values in the dataset : ',df.duplicated().sum())"
   ]
  },
  {
   "cell_type": "markdown",
   "id": "b6287230",
   "metadata": {
    "papermill": {
     "duration": 0.006771,
     "end_time": "2022-06-27T17:44:49.796674",
     "exception": false,
     "start_time": "2022-06-27T17:44:49.789903",
     "status": "completed"
    },
    "tags": []
   },
   "source": [
    "### Remove dupes"
   ]
  },
  {
   "cell_type": "code",
   "execution_count": 4,
   "id": "b550bd7a",
   "metadata": {
    "execution": {
     "iopub.execute_input": "2022-06-27T17:44:49.811728Z",
     "iopub.status.busy": "2022-06-27T17:44:49.811462Z",
     "iopub.status.idle": "2022-06-27T17:44:49.825074Z",
     "shell.execute_reply": "2022-06-27T17:44:49.823602Z"
    },
    "papermill": {
     "duration": 0.02429,
     "end_time": "2022-06-27T17:44:49.827992",
     "exception": false,
     "start_time": "2022-06-27T17:44:49.803702",
     "status": "completed"
    },
    "tags": []
   },
   "outputs": [
    {
     "name": "stdout",
     "output_type": "stream",
     "text": [
      "Duplicate values now :  0\n"
     ]
    }
   ],
   "source": [
    "df = df.drop(df[df.duplicated()].index,axis = 0).reset_index(drop = True)\n",
    "print('Duplicate values now : ',df.duplicated().sum())"
   ]
  },
  {
   "cell_type": "code",
   "execution_count": 5,
   "id": "c89bbef2",
   "metadata": {
    "execution": {
     "iopub.execute_input": "2022-06-27T17:44:49.843712Z",
     "iopub.status.busy": "2022-06-27T17:44:49.843451Z",
     "iopub.status.idle": "2022-06-27T17:44:49.847635Z",
     "shell.execute_reply": "2022-06-27T17:44:49.846580Z"
    },
    "papermill": {
     "duration": 0.013996,
     "end_time": "2022-06-27T17:44:49.849557",
     "exception": false,
     "start_time": "2022-06-27T17:44:49.835561",
     "status": "completed"
    },
    "tags": []
   },
   "outputs": [],
   "source": [
    "# import warnings filter -- This needs to be \n",
    "#ignore warnings\n",
    "import warnings\n",
    "warnings.filterwarnings('ignore')"
   ]
  },
  {
   "cell_type": "markdown",
   "id": "1aeb4c92",
   "metadata": {
    "papermill": {
     "duration": 0.006909,
     "end_time": "2022-06-27T17:44:49.864180",
     "exception": false,
     "start_time": "2022-06-27T17:44:49.857271",
     "status": "completed"
    },
    "tags": []
   },
   "source": [
    "# Explore data with stats"
   ]
  },
  {
   "cell_type": "code",
   "execution_count": 6,
   "id": "e2ec8f84",
   "metadata": {
    "execution": {
     "iopub.execute_input": "2022-06-27T17:44:49.880021Z",
     "iopub.status.busy": "2022-06-27T17:44:49.879394Z",
     "iopub.status.idle": "2022-06-27T17:44:49.922902Z",
     "shell.execute_reply": "2022-06-27T17:44:49.921528Z"
    },
    "papermill": {
     "duration": 0.054318,
     "end_time": "2022-06-27T17:44:49.925830",
     "exception": false,
     "start_time": "2022-06-27T17:44:49.871512",
     "status": "completed"
    },
    "tags": []
   },
   "outputs": [
    {
     "name": "stdout",
     "output_type": "stream",
     "text": [
      "       fixed acidity  volatile acidity  citric acid  residual sugar  \\\n",
      "count    1359.000000       1359.000000  1359.000000     1359.000000   \n",
      "mean        8.310596          0.529478     0.272333        2.523400   \n",
      "std         1.736990          0.183031     0.195537        1.352314   \n",
      "min         4.600000          0.120000     0.000000        0.900000   \n",
      "25%         7.100000          0.390000     0.090000        1.900000   \n",
      "50%         7.900000          0.520000     0.260000        2.200000   \n",
      "75%         9.200000          0.640000     0.430000        2.600000   \n",
      "max        15.900000          1.580000     1.000000       15.500000   \n",
      "\n",
      "         chlorides  free sulfur dioxide  total sulfur dioxide      density  \\\n",
      "count  1359.000000          1359.000000           1359.000000  1359.000000   \n",
      "mean      0.088124            15.893304             46.825975     0.996709   \n",
      "std       0.049377            10.447270             33.408946     0.001869   \n",
      "min       0.012000             1.000000              6.000000     0.990070   \n",
      "25%       0.070000             7.000000             22.000000     0.995600   \n",
      "50%       0.079000            14.000000             38.000000     0.996700   \n",
      "75%       0.091000            21.000000             63.000000     0.997820   \n",
      "max       0.611000            72.000000            289.000000     1.003690   \n",
      "\n",
      "                pH    sulphates      alcohol      quality  \n",
      "count  1359.000000  1359.000000  1359.000000  1359.000000  \n",
      "mean      3.309787     0.658705    10.432315     5.623252  \n",
      "std       0.155036     0.170667     1.082065     0.823578  \n",
      "min       2.740000     0.330000     8.400000     3.000000  \n",
      "25%       3.210000     0.550000     9.500000     5.000000  \n",
      "50%       3.310000     0.620000    10.200000     6.000000  \n",
      "75%       3.400000     0.730000    11.100000     6.000000  \n",
      "max       4.010000     2.000000    14.900000     8.000000  \n",
      "fixed acidity            8.441176\n",
      "volatile acidity         0.427647\n",
      "citric acid              0.382941\n",
      "residual sugar           2.576471\n",
      "chlorides                0.068353\n",
      "free sulfur dioxide     13.764706\n",
      "total sulfur dioxide    34.470588\n",
      "density                  0.995095\n",
      "pH                       3.274118\n",
      "sulphates                0.774706\n",
      "alcohol                 12.158824\n",
      "quality                  8.000000\n",
      "dtype: float64\n"
     ]
    }
   ],
   "source": [
    "\n",
    "# Statistical characteristics of each numerical feature\n",
    "print(df.describe())\n",
    "print(df[df['quality'] == 8].mean())\n"
   ]
  },
  {
   "cell_type": "code",
   "execution_count": 7,
   "id": "2afbbddb",
   "metadata": {
    "execution": {
     "iopub.execute_input": "2022-06-27T17:44:49.943781Z",
     "iopub.status.busy": "2022-06-27T17:44:49.942413Z",
     "iopub.status.idle": "2022-06-27T17:44:52.429299Z",
     "shell.execute_reply": "2022-06-27T17:44:52.428338Z"
    },
    "papermill": {
     "duration": 2.497926,
     "end_time": "2022-06-27T17:44:52.431902",
     "exception": false,
     "start_time": "2022-06-27T17:44:49.933976",
     "status": "completed"
    },
    "tags": []
   },
   "outputs": [
    {
     "data": {
      "image/png": "[encoded data removed]",
      "text/plain": [
       "<Figure size 360x288 with 12 Axes>"
      ]
     },
     "metadata": {
      "needs_background": "light"
     },
     "output_type": "display_data"
    },
    {
     "data": {
      "image/png": "[encoded data removed]",
      "text/plain": [
       "<Figure size 432x288 with 12 Axes>"
      ]
     },
     "metadata": {
      "needs_background": "light"
     },
     "output_type": "display_data"
    }
   ],
   "source": [
    "# Histograms\n",
    "df.hist(bins=10,figsize=(5, 4))\n",
    "plt.show()\n",
    "# Density\n",
    "df.plot(kind='density', subplots=True, layout=(4,3), sharex=False)\n",
    "plt.show()"
   ]
  },
  {
   "cell_type": "markdown",
   "id": "2d02f5b2",
   "metadata": {
    "papermill": {
     "duration": 0.008123,
     "end_time": "2022-06-27T17:44:52.449630",
     "exception": false,
     "start_time": "2022-06-27T17:44:52.441507",
     "status": "completed"
    },
    "tags": []
   },
   "source": [
    "### Pivot table in pandas is an excellent function to summarize one or more numeric variable based on two other categorical variables \n"
   ]
  },
  {
   "cell_type": "code",
   "execution_count": 8,
   "id": "d2803f85",
   "metadata": {
    "execution": {
     "iopub.execute_input": "2022-06-27T17:44:52.468425Z",
     "iopub.status.busy": "2022-06-27T17:44:52.467440Z",
     "iopub.status.idle": "2022-06-27T17:44:52.489417Z",
     "shell.execute_reply": "2022-06-27T17:44:52.488452Z"
    },
    "papermill": {
     "duration": 0.034328,
     "end_time": "2022-06-27T17:44:52.492080",
     "exception": false,
     "start_time": "2022-06-27T17:44:52.457752",
     "status": "completed"
    },
    "tags": []
   },
   "outputs": [
    {
     "name": "stdout",
     "output_type": "stream",
     "text": [
      "         alcohol  chlorides  citric acid   density  fixed acidity  \\\n",
      "quality                                                             \n",
      "3          9.925     0.0905        0.035  0.997565            7.5   \n",
      "4         10.000     0.0800        0.090  0.996500            7.5   \n",
      "5          9.600     0.0820        0.230  0.997000            7.8   \n",
      "6         10.500     0.0780        0.270  0.996520            7.9   \n",
      "7         11.600     0.0720        0.400  0.995770            8.8   \n",
      "8         12.500     0.0710        0.390  0.994720            7.9   \n",
      "\n",
      "         free sulfur dioxide    pH  residual sugar  sulphates  \\\n",
      "quality                                                         \n",
      "3                        6.0  3.39             2.1      0.545   \n",
      "4                       11.0  3.37             2.1      0.560   \n",
      "5                       15.0  3.30             2.2      0.580   \n",
      "6                       14.0  3.32             2.2      0.640   \n",
      "7                       11.0  3.28             2.3      0.740   \n",
      "8                        8.0  3.23             2.0      0.740   \n",
      "\n",
      "         total sulfur dioxide  volatile acidity  \n",
      "quality                                          \n",
      "3                        15.0             0.845  \n",
      "4                        26.0             0.670  \n",
      "5                        49.0             0.580  \n",
      "6                        35.0             0.490  \n",
      "7                        27.0             0.370  \n",
      "8                        24.0             0.380  \n"
     ]
    }
   ],
   "source": [
    "# Create pivot_table\n",
    "colum_names = ['fixed acidity', 'volatile acidity', 'citric acid', 'residual sugar', 'chlorides', 'free sulfur dioxide', 'total sulfur dioxide', 'density', 'pH', 'sulphates', 'alcohol']\n",
    "df_pivot_table = df.pivot_table(colum_names,index=\n",
    "               ['quality'], aggfunc=  'median')\n",
    "print(df_pivot_table)"
   ]
  },
  {
   "cell_type": "markdown",
   "id": "8ec435fc",
   "metadata": {
    "papermill": {
     "duration": 0.008143,
     "end_time": "2022-06-27T17:44:52.509768",
     "exception": false,
     "start_time": "2022-06-27T17:44:52.501625",
     "status": "completed"
    },
    "tags": []
   },
   "source": [
    "# Co-relation\n",
    "The correlation coefficient ranges from –1 to 1. When it is close to 1, it means that there is a strong positive correlation.\n"
   ]
  },
  {
   "cell_type": "code",
   "execution_count": 9,
   "id": "438e73a1",
   "metadata": {
    "execution": {
     "iopub.execute_input": "2022-06-27T17:44:52.528252Z",
     "iopub.status.busy": "2022-06-27T17:44:52.527184Z",
     "iopub.status.idle": "2022-06-27T17:44:52.535443Z",
     "shell.execute_reply": "2022-06-27T17:44:52.534331Z"
    },
    "papermill": {
     "duration": 0.020813,
     "end_time": "2022-06-27T17:44:52.538646",
     "exception": false,
     "start_time": "2022-06-27T17:44:52.517833",
     "status": "completed"
    },
    "tags": []
   },
   "outputs": [
    {
     "name": "stdout",
     "output_type": "stream",
     "text": [
      "quality                 1.000000\n",
      "alcohol                 0.480343\n",
      "sulphates               0.248835\n",
      "citric acid             0.228057\n",
      "fixed acidity           0.119024\n",
      "residual sugar          0.013640\n",
      "free sulfur dioxide    -0.050463\n",
      "pH                     -0.055245\n",
      "chlorides              -0.130988\n",
      "total sulfur dioxide   -0.177855\n",
      "density                -0.184252\n",
      "volatile acidity       -0.395214\n",
      "Name: quality, dtype: float64\n"
     ]
    }
   ],
   "source": [
    "corr_matrix = df.corr()\n",
    "print(corr_matrix[\"quality\"].sort_values(ascending=False))\n",
    "\n"
   ]
  },
  {
   "cell_type": "code",
   "execution_count": 10,
   "id": "30dca472",
   "metadata": {
    "execution": {
     "iopub.execute_input": "2022-06-27T17:44:52.557374Z",
     "iopub.status.busy": "2022-06-27T17:44:52.557099Z",
     "iopub.status.idle": "2022-06-27T17:44:53.364734Z",
     "shell.execute_reply": "2022-06-27T17:44:53.363677Z"
    },
    "papermill": {
     "duration": 0.819285,
     "end_time": "2022-06-27T17:44:53.367415",
     "exception": false,
     "start_time": "2022-06-27T17:44:52.548130",
     "status": "completed"
    },
    "tags": []
   },
   "outputs": [
    {
     "data": {
      "image/png": "[encoded data removed]",
      "text/plain": [
       "<Figure size 720x720 with 2 Axes>"
      ]
     },
     "metadata": {
      "needs_background": "light"
     },
     "output_type": "display_data"
    }
   ],
   "source": [
    "colum_names = ['fixed acidity', 'volatile acidity', 'citric acid', 'residual sugar', 'chlorides', 'free sulfur dioxide', 'total sulfur dioxide', 'density', 'pH', 'sulphates', 'alcohol', 'quality']\n",
    "# Correlation matrix\n",
    "correlations = df.corr()\n",
    "# Plot figsize\n",
    "fig, ax = plt.subplots(figsize=(10, 10))\n",
    "# Generate Color Map\n",
    "colormap = sns.diverging_palette(20, 10, as_cmap=True)\n",
    "# Generate Heat Map, allow annotations and place floats in map\n",
    "sns.heatmap(correlations, cmap=colormap, annot=True, fmt=\".1f\")\n",
    "ax.set_xticklabels(\n",
    "    colum_names,\n",
    "    rotation=45,\n",
    "    horizontalalignment='right'\n",
    ");\n",
    "ax.set_yticklabels(colum_names);\n",
    "plt.show()"
   ]
  },
  {
   "cell_type": "markdown",
   "id": "54c9b9ff",
   "metadata": {
    "papermill": {
     "duration": 0.010309,
     "end_time": "2022-06-27T17:44:53.388142",
     "exception": false,
     "start_time": "2022-06-27T17:44:53.377833",
     "status": "completed"
    },
    "tags": []
   },
   "source": [
    "## Data Pre-processing "
   ]
  },
  {
   "cell_type": "code",
   "execution_count": 11,
   "id": "b8c1d3d7",
   "metadata": {
    "execution": {
     "iopub.execute_input": "2022-06-27T17:44:53.408384Z",
     "iopub.status.busy": "2022-06-27T17:44:53.408074Z",
     "iopub.status.idle": "2022-06-27T17:44:53.437563Z",
     "shell.execute_reply": "2022-06-27T17:44:53.436472Z"
    },
    "papermill": {
     "duration": 0.041983,
     "end_time": "2022-06-27T17:44:53.439749",
     "exception": false,
     "start_time": "2022-06-27T17:44:53.397766",
     "status": "completed"
    },
    "tags": []
   },
   "outputs": [
    {
     "data": {
      "text/html": [
       "<div>\n",
       "<style scoped>\n",
       "    .dataframe tbody tr th:only-of-type {\n",
       "        vertical-align: middle;\n",
       "    }\n",
       "\n",
       "    .dataframe tbody tr th {\n",
       "        vertical-align: top;\n",
       "    }\n",
       "\n",
       "    .dataframe thead th {\n",
       "        text-align: right;\n",
       "    }\n",
       "</style>\n",
       "<table border=\"1\" class=\"dataframe\">\n",
       "  <thead>\n",
       "    <tr style=\"text-align: right;\">\n",
       "      <th></th>\n",
       "      <th>fixed acidity</th>\n",
       "      <th>volatile acidity</th>\n",
       "      <th>citric acid</th>\n",
       "      <th>residual sugar</th>\n",
       "      <th>chlorides</th>\n",
       "      <th>free sulfur dioxide</th>\n",
       "      <th>total sulfur dioxide</th>\n",
       "      <th>density</th>\n",
       "      <th>pH</th>\n",
       "      <th>sulphates</th>\n",
       "      <th>alcohol</th>\n",
       "      <th>quality</th>\n",
       "    </tr>\n",
       "  </thead>\n",
       "  <tbody>\n",
       "    <tr>\n",
       "      <th>0</th>\n",
       "      <td>7.4</td>\n",
       "      <td>0.70</td>\n",
       "      <td>0.00</td>\n",
       "      <td>1.9</td>\n",
       "      <td>0.076</td>\n",
       "      <td>11.0</td>\n",
       "      <td>34.0</td>\n",
       "      <td>0.9978</td>\n",
       "      <td>3.51</td>\n",
       "      <td>0.56</td>\n",
       "      <td>9.4</td>\n",
       "      <td>bad</td>\n",
       "    </tr>\n",
       "    <tr>\n",
       "      <th>1</th>\n",
       "      <td>7.8</td>\n",
       "      <td>0.88</td>\n",
       "      <td>0.00</td>\n",
       "      <td>2.6</td>\n",
       "      <td>0.098</td>\n",
       "      <td>25.0</td>\n",
       "      <td>67.0</td>\n",
       "      <td>0.9968</td>\n",
       "      <td>3.20</td>\n",
       "      <td>0.68</td>\n",
       "      <td>9.8</td>\n",
       "      <td>bad</td>\n",
       "    </tr>\n",
       "    <tr>\n",
       "      <th>2</th>\n",
       "      <td>7.8</td>\n",
       "      <td>0.76</td>\n",
       "      <td>0.04</td>\n",
       "      <td>2.3</td>\n",
       "      <td>0.092</td>\n",
       "      <td>15.0</td>\n",
       "      <td>54.0</td>\n",
       "      <td>0.9970</td>\n",
       "      <td>3.26</td>\n",
       "      <td>0.65</td>\n",
       "      <td>9.8</td>\n",
       "      <td>bad</td>\n",
       "    </tr>\n",
       "    <tr>\n",
       "      <th>3</th>\n",
       "      <td>11.2</td>\n",
       "      <td>0.28</td>\n",
       "      <td>0.56</td>\n",
       "      <td>1.9</td>\n",
       "      <td>0.075</td>\n",
       "      <td>17.0</td>\n",
       "      <td>60.0</td>\n",
       "      <td>0.9980</td>\n",
       "      <td>3.16</td>\n",
       "      <td>0.58</td>\n",
       "      <td>9.8</td>\n",
       "      <td>bad</td>\n",
       "    </tr>\n",
       "    <tr>\n",
       "      <th>4</th>\n",
       "      <td>7.4</td>\n",
       "      <td>0.66</td>\n",
       "      <td>0.00</td>\n",
       "      <td>1.8</td>\n",
       "      <td>0.075</td>\n",
       "      <td>13.0</td>\n",
       "      <td>40.0</td>\n",
       "      <td>0.9978</td>\n",
       "      <td>3.51</td>\n",
       "      <td>0.56</td>\n",
       "      <td>9.4</td>\n",
       "      <td>bad</td>\n",
       "    </tr>\n",
       "    <tr>\n",
       "      <th>5</th>\n",
       "      <td>7.9</td>\n",
       "      <td>0.60</td>\n",
       "      <td>0.06</td>\n",
       "      <td>1.6</td>\n",
       "      <td>0.069</td>\n",
       "      <td>15.0</td>\n",
       "      <td>59.0</td>\n",
       "      <td>0.9964</td>\n",
       "      <td>3.30</td>\n",
       "      <td>0.46</td>\n",
       "      <td>9.4</td>\n",
       "      <td>bad</td>\n",
       "    </tr>\n",
       "    <tr>\n",
       "      <th>6</th>\n",
       "      <td>7.3</td>\n",
       "      <td>0.65</td>\n",
       "      <td>0.00</td>\n",
       "      <td>1.2</td>\n",
       "      <td>0.065</td>\n",
       "      <td>15.0</td>\n",
       "      <td>21.0</td>\n",
       "      <td>0.9946</td>\n",
       "      <td>3.39</td>\n",
       "      <td>0.47</td>\n",
       "      <td>10.0</td>\n",
       "      <td>good</td>\n",
       "    </tr>\n",
       "    <tr>\n",
       "      <th>7</th>\n",
       "      <td>7.8</td>\n",
       "      <td>0.58</td>\n",
       "      <td>0.02</td>\n",
       "      <td>2.0</td>\n",
       "      <td>0.073</td>\n",
       "      <td>9.0</td>\n",
       "      <td>18.0</td>\n",
       "      <td>0.9968</td>\n",
       "      <td>3.36</td>\n",
       "      <td>0.57</td>\n",
       "      <td>9.5</td>\n",
       "      <td>good</td>\n",
       "    </tr>\n",
       "    <tr>\n",
       "      <th>8</th>\n",
       "      <td>7.5</td>\n",
       "      <td>0.50</td>\n",
       "      <td>0.36</td>\n",
       "      <td>6.1</td>\n",
       "      <td>0.071</td>\n",
       "      <td>17.0</td>\n",
       "      <td>102.0</td>\n",
       "      <td>0.9978</td>\n",
       "      <td>3.35</td>\n",
       "      <td>0.80</td>\n",
       "      <td>10.5</td>\n",
       "      <td>bad</td>\n",
       "    </tr>\n",
       "    <tr>\n",
       "      <th>9</th>\n",
       "      <td>6.7</td>\n",
       "      <td>0.58</td>\n",
       "      <td>0.08</td>\n",
       "      <td>1.8</td>\n",
       "      <td>0.097</td>\n",
       "      <td>15.0</td>\n",
       "      <td>65.0</td>\n",
       "      <td>0.9959</td>\n",
       "      <td>3.28</td>\n",
       "      <td>0.54</td>\n",
       "      <td>9.2</td>\n",
       "      <td>bad</td>\n",
       "    </tr>\n",
       "  </tbody>\n",
       "</table>\n",
       "</div>"
      ],
      "text/plain": [
       "   fixed acidity  volatile acidity  citric acid  residual sugar  chlorides  \\\n",
       "0            7.4              0.70         0.00             1.9      0.076   \n",
       "1            7.8              0.88         0.00             2.6      0.098   \n",
       "2            7.8              0.76         0.04             2.3      0.092   \n",
       "3           11.2              0.28         0.56             1.9      0.075   \n",
       "4            7.4              0.66         0.00             1.8      0.075   \n",
       "5            7.9              0.60         0.06             1.6      0.069   \n",
       "6            7.3              0.65         0.00             1.2      0.065   \n",
       "7            7.8              0.58         0.02             2.0      0.073   \n",
       "8            7.5              0.50         0.36             6.1      0.071   \n",
       "9            6.7              0.58         0.08             1.8      0.097   \n",
       "\n",
       "   free sulfur dioxide  total sulfur dioxide  density    pH  sulphates  \\\n",
       "0                 11.0                  34.0   0.9978  3.51       0.56   \n",
       "1                 25.0                  67.0   0.9968  3.20       0.68   \n",
       "2                 15.0                  54.0   0.9970  3.26       0.65   \n",
       "3                 17.0                  60.0   0.9980  3.16       0.58   \n",
       "4                 13.0                  40.0   0.9978  3.51       0.56   \n",
       "5                 15.0                  59.0   0.9964  3.30       0.46   \n",
       "6                 15.0                  21.0   0.9946  3.39       0.47   \n",
       "7                  9.0                  18.0   0.9968  3.36       0.57   \n",
       "8                 17.0                 102.0   0.9978  3.35       0.80   \n",
       "9                 15.0                  65.0   0.9959  3.28       0.54   \n",
       "\n",
       "   alcohol quality  \n",
       "0      9.4     bad  \n",
       "1      9.8     bad  \n",
       "2      9.8     bad  \n",
       "3      9.8     bad  \n",
       "4      9.4     bad  \n",
       "5      9.4     bad  \n",
       "6     10.0    good  \n",
       "7      9.5    good  \n",
       "8     10.5     bad  \n",
       "9      9.2     bad  "
      ]
     },
     "execution_count": 11,
     "metadata": {},
     "output_type": "execute_result"
    }
   ],
   "source": [
    "# Dividing wine as good and bad by giving the limit for the quality\n",
    "bins = (2, 6.5, 8)\n",
    "group_names = ['bad', 'good']\n",
    "df['quality'] = pd.cut(df['quality'], bins = bins, labels = group_names)\n",
    "df.head(10)"
   ]
  },
  {
   "cell_type": "markdown",
   "id": "f5c25450",
   "metadata": {
    "papermill": {
     "duration": 0.009885,
     "end_time": "2022-06-27T17:44:53.460560",
     "exception": false,
     "start_time": "2022-06-27T17:44:53.450675",
     "status": "completed"
    },
    "tags": []
   },
   "source": [
    "#### Labeling quality variable  0,1 / good, bad "
   ]
  },
  {
   "cell_type": "code",
   "execution_count": 12,
   "id": "7759c2fd",
   "metadata": {
    "execution": {
     "iopub.execute_input": "2022-06-27T17:44:53.481871Z",
     "iopub.status.busy": "2022-06-27T17:44:53.481083Z",
     "iopub.status.idle": "2022-06-27T17:44:53.490361Z",
     "shell.execute_reply": "2022-06-27T17:44:53.489432Z"
    },
    "papermill": {
     "duration": 0.021751,
     "end_time": "2022-06-27T17:44:53.492223",
     "exception": false,
     "start_time": "2022-06-27T17:44:53.470472",
     "status": "completed"
    },
    "tags": []
   },
   "outputs": [
    {
     "data": {
      "text/plain": [
       "0    1175\n",
       "1     184\n",
       "Name: quality, dtype: int64"
      ]
     },
     "execution_count": 12,
     "metadata": {},
     "output_type": "execute_result"
    }
   ],
   "source": [
    "label_quality = LabelEncoder()\n",
    "# Bad becomes 0 and good becomes 1\n",
    "df['quality'] = label_quality.fit_transform(df['quality'])\n",
    "df['quality'].value_counts()"
   ]
  },
  {
   "cell_type": "markdown",
   "id": "71806edd",
   "metadata": {
    "papermill": {
     "duration": 0.009829,
     "end_time": "2022-06-27T17:44:53.511791",
     "exception": false,
     "start_time": "2022-06-27T17:44:53.501962",
     "status": "completed"
    },
    "tags": []
   },
   "source": [
    "#### Data Splitting and Validation"
   ]
  },
  {
   "cell_type": "code",
   "execution_count": 13,
   "id": "4cbd3117",
   "metadata": {
    "execution": {
     "iopub.execute_input": "2022-06-27T17:44:53.534315Z",
     "iopub.status.busy": "2022-06-27T17:44:53.533942Z",
     "iopub.status.idle": "2022-06-27T17:44:53.554180Z",
     "shell.execute_reply": "2022-06-27T17:44:53.552556Z"
    },
    "papermill": {
     "duration": 0.034218,
     "end_time": "2022-06-27T17:44:53.556791",
     "exception": false,
     "start_time": "2022-06-27T17:44:53.522573",
     "status": "completed"
    },
    "tags": []
   },
   "outputs": [
    {
     "name": "stdout",
     "output_type": "stream",
     "text": [
      "(1223, 11)\n",
      "(1223,)\n",
      "(136, 11)\n",
      "(136,)\n"
     ]
    },
    {
     "data": {
      "text/plain": [
       "(None, None)"
      ]
     },
     "execution_count": 13,
     "metadata": {},
     "output_type": "execute_result"
    }
   ],
   "source": [
    "\n",
    "# split the data in 90:10 or 80:20 or 95:5 based on need.\n",
    "\n",
    "X = df.drop('quality', axis=1)\n",
    "y = df['quality']\n",
    "\n",
    "# In the first step we will split the data in training and remaining dataset\n",
    "X_train, X_test, y_train, y_test = train_test_split(X, y, test_size= 0.1, random_state=42)\n",
    "\n",
    "# Applying Standard scaling to get optimized result\n",
    "\n",
    "sc = StandardScaler()\n",
    "X_train = sc.fit_transform(X_train)\n",
    "X_test = sc.fit_transform(X_test)\n",
    "\n",
    "print(X_train.shape), print(y_train.shape)\n",
    "print(X_test.shape), print(y_test.shape)"
   ]
  },
  {
   "cell_type": "markdown",
   "id": "bf21e0ff",
   "metadata": {
    "papermill": {
     "duration": 0.010063,
     "end_time": "2022-06-27T17:44:53.577402",
     "exception": false,
     "start_time": "2022-06-27T17:44:53.567339",
     "status": "completed"
    },
    "tags": []
   },
   "source": [
    "#### Configuration for cross validation "
   ]
  },
  {
   "cell_type": "code",
   "execution_count": 14,
   "id": "75ef8d22",
   "metadata": {
    "execution": {
     "iopub.execute_input": "2022-06-27T17:44:53.599778Z",
     "iopub.status.busy": "2022-06-27T17:44:53.599235Z",
     "iopub.status.idle": "2022-06-27T17:44:59.138158Z",
     "shell.execute_reply": "2022-06-27T17:44:59.137126Z"
    },
    "papermill": {
     "duration": 5.552631,
     "end_time": "2022-06-27T17:44:59.140541",
     "exception": false,
     "start_time": "2022-06-27T17:44:53.587910",
     "status": "completed"
    },
    "tags": []
   },
   "outputs": [
    {
     "name": "stdout",
     "output_type": "stream",
     "text": [
      "SupportVectorClassifier: 0.875816 (0.034378)\n",
      "RandomForestClassifier: 0.867633 (0.030926)\n",
      "DecisionTreeClassifier: 0.824304 (0.054010)\n",
      "AdaBoostClassifier: 0.854545 (0.036319)\n",
      "KNeighborsClassifier: 0.861049 (0.025023)\n",
      "GaussianNB: 0.835652 (0.045381)\n",
      "LogisticRegression: 0.868459 (0.033727)\n"
     ]
    },
    {
     "data": {
      "image/png": "[encoded data removed]",
      "text/plain": [
       "<Figure size 432x288 with 1 Axes>"
      ]
     },
     "metadata": {
      "needs_background": "light"
     },
     "output_type": "display_data"
    }
   ],
   "source": [
    "# prepare configuration for cross validation test harness\n",
    "seed = 7\n",
    "# prepare models\n",
    "models = []\n",
    "models.append(('SupportVectorClassifier', SVC()))\n",
    "models.append(('RandomForestClassifier', RandomForestClassifier()))\n",
    "models.append(('DecisionTreeClassifier', DecisionTreeClassifier()))\n",
    "models.append(('AdaBoostClassifier', AdaBoostClassifier()))\n",
    "models.append(('KNeighborsClassifier', KNeighborsClassifier()))\n",
    "models.append(('GaussianNB', GaussianNB()))\n",
    "models.append(('LogisticRegression', LogisticRegression()))\n",
    "\n",
    "\n",
    "# evaluate each model in turn\n",
    "results = []\n",
    "names = []\n",
    "scoring = 'accuracy'\n",
    "\n",
    "for name, model in models:\n",
    "   kfold = KFold(n_splits=10,shuffle=True, random_state=seed)\n",
    "   cv_results = cross_val_score(model, X_train, y_train, cv=kfold, scoring=scoring)\n",
    "   results.append(cv_results)\n",
    "   names.append(name)\n",
    "   msg = \"%s: %f (%f)\" % (name, cv_results.mean(), cv_results.std())\n",
    "   print(msg)\n",
    "# boxplot algorithm comparison\n",
    "fig = plt.figure()\n",
    "fig.suptitle('Algorithm Comparison')\n",
    "ax = fig.add_subplot(111)\n",
    "plt.boxplot(results)\n",
    "ax.set_xticklabels(names)\n",
    "plt.show()"
   ]
  },
  {
   "cell_type": "code",
   "execution_count": 15,
   "id": "666af58e",
   "metadata": {
    "execution": {
     "iopub.execute_input": "2022-06-27T17:44:59.163853Z",
     "iopub.status.busy": "2022-06-27T17:44:59.163013Z",
     "iopub.status.idle": "2022-06-27T17:46:01.658249Z",
     "shell.execute_reply": "2022-06-27T17:46:01.657212Z"
    },
    "papermill": {
     "duration": 62.520821,
     "end_time": "2022-06-27T17:46:01.672325",
     "exception": false,
     "start_time": "2022-06-27T17:44:59.151504",
     "status": "completed"
    },
    "tags": []
   },
   "outputs": [
    {
     "name": "stdout",
     "output_type": "stream",
     "text": [
      "{'C': 1.4, 'gamma': 0.1, 'kernel': 'rbf'}\n"
     ]
    }
   ],
   "source": [
    "def svc_param_selection(X, y, nfolds):\n",
    "    param = {\n",
    "        'C': [0.1, 0.8, 0.9, 1, 1.1, 1.2, 1.3, 1.4],\n",
    "        'kernel': ['linear', 'rbf'],\n",
    "        'gamma': [0.1, 0.8, 0.9, 1, 1.1, 1.2, 1.3, 1.4]\n",
    "    }\n",
    "    svc = SVC()\n",
    "    grid_search = GridSearchCV(svc, param_grid=param, scoring='accuracy', cv=nfolds)\n",
    "    grid_search.fit(X,  y)\n",
    "    return grid_search.best_params_\n",
    "print(svc_param_selection(X_train, y_train,10))"
   ]
  },
  {
   "cell_type": "code",
   "execution_count": 16,
   "id": "c2174e02",
   "metadata": {
    "execution": {
     "iopub.execute_input": "2022-06-27T17:46:01.696888Z",
     "iopub.status.busy": "2022-06-27T17:46:01.696554Z",
     "iopub.status.idle": "2022-06-27T17:46:01.751397Z",
     "shell.execute_reply": "2022-06-27T17:46:01.750196Z"
    },
    "papermill": {
     "duration": 0.069803,
     "end_time": "2022-06-27T17:46:01.754344",
     "exception": false,
     "start_time": "2022-06-27T17:46:01.684541",
     "status": "completed"
    },
    "tags": []
   },
   "outputs": [
    {
     "name": "stdout",
     "output_type": "stream",
     "text": [
      "Confusion matrix\n",
      "[[123   5]\n",
      " [  4   4]]\n",
      "Classification report\n",
      "              precision    recall  f1-score   support\n",
      "\n",
      "           0       0.97      0.96      0.96       128\n",
      "           1       0.44      0.50      0.47         8\n",
      "\n",
      "    accuracy                           0.93       136\n",
      "   macro avg       0.71      0.73      0.72       136\n",
      "weighted avg       0.94      0.93      0.94       136\n",
      "\n",
      "Accuracy score 93.38\n"
     ]
    }
   ],
   "source": [
    "svc = SVC(C = 1.4, gamma =  0.1, kernel= 'rbf')\n",
    "svc.fit(X_train, y_train)\n",
    "pred_svc = svc.predict(X_test)\n",
    "print('Confusion matrix')\n",
    "print(confusion_matrix(y_test, pred_svc))\n",
    "print('Classification report')\n",
    "\n",
    "\n",
    "print(classification_report(y_test, pred_svc))\n",
    "print('Accuracy score',round(accuracy_score(y_test, pred_svc) * 100, 2))"
   ]
  },
  {
   "cell_type": "code",
   "execution_count": 17,
   "id": "bcffd9de",
   "metadata": {
    "execution": {
     "iopub.execute_input": "2022-06-27T17:46:01.778432Z",
     "iopub.status.busy": "2022-06-27T17:46:01.778123Z",
     "iopub.status.idle": "2022-06-27T17:46:08.068777Z",
     "shell.execute_reply": "2022-06-27T17:46:08.066498Z"
    },
    "papermill": {
     "duration": 6.305337,
     "end_time": "2022-06-27T17:46:08.071850",
     "exception": false,
     "start_time": "2022-06-27T17:46:01.766513",
     "status": "completed"
    },
    "tags": []
   },
   "outputs": [
    {
     "name": "stdout",
     "output_type": "stream",
     "text": [
      "Accuracy score 94.95\n"
     ]
    }
   ],
   "source": [
    "ada_classifier = AdaBoostClassifier(n_estimators=250)\n",
    "ada_classifier.fit(X_train, y_train)\n",
    "pred_ada = ada_classifier.predict(X_test)\n",
    "\n",
    "# Cross-validation\n",
    "scores = cross_val_score(ada_classifier,X_test,y_test, cv=12)\n",
    "print('Accuracy score',round(scores.mean() * 100,2))"
   ]
  },
  {
   "cell_type": "code",
   "execution_count": 18,
   "id": "73f72880",
   "metadata": {
    "execution": {
     "iopub.execute_input": "2022-06-27T17:46:08.098320Z",
     "iopub.status.busy": "2022-06-27T17:46:08.097623Z",
     "iopub.status.idle": "2022-06-27T17:46:08.176959Z",
     "shell.execute_reply": "2022-06-27T17:46:08.175744Z"
    },
    "papermill": {
     "duration": 0.095295,
     "end_time": "2022-06-27T17:46:08.179964",
     "exception": false,
     "start_time": "2022-06-27T17:46:08.084669",
     "status": "completed"
    },
    "tags": []
   },
   "outputs": [
    {
     "name": "stdout",
     "output_type": "stream",
     "text": [
      "Accuracy score 94.89\n"
     ]
    }
   ],
   "source": [
    "svm_classifier = SVC(kernel= 'poly')\n",
    "svm_classifier.fit(X_train, y_train)\n",
    "pred_svm = svm_classifier.predict(X_test)\n",
    "\n",
    "# Cross-validation\n",
    "scores = cross_val_score(svm_classifier,X_test,y_test, cv=15)\n",
    "print('Accuracy score',round(scores.mean() * 100,2))"
   ]
  },
  {
   "cell_type": "code",
   "execution_count": 19,
   "id": "30d615ed",
   "metadata": {
    "execution": {
     "iopub.execute_input": "2022-06-27T17:46:08.205927Z",
     "iopub.status.busy": "2022-06-27T17:46:08.205571Z",
     "iopub.status.idle": "2022-06-27T17:46:08.278597Z",
     "shell.execute_reply": "2022-06-27T17:46:08.277370Z"
    },
    "papermill": {
     "duration": 0.08876,
     "end_time": "2022-06-27T17:46:08.280913",
     "exception": false,
     "start_time": "2022-06-27T17:46:08.192153",
     "status": "completed"
    },
    "tags": []
   },
   "outputs": [
    {
     "name": "stdout",
     "output_type": "stream",
     "text": [
      "Accuracy score 92.67\n"
     ]
    }
   ],
   "source": [
    "svm_linear = SVC(kernel= 'linear')\n",
    "svm_linear.fit(X_train, y_train)\n",
    "pred_svm_linear = svm_linear.predict(X_test)\n",
    "\n",
    "# Cross-validation\n",
    "scores = cross_val_score(svm_linear,X_test,y_test, cv=15)\n",
    "print('Accuracy score',round(scores.mean() * 100,2))"
   ]
  },
  {
   "cell_type": "code",
   "execution_count": 20,
   "id": "143a3a60",
   "metadata": {
    "execution": {
     "iopub.execute_input": "2022-06-27T17:46:08.307541Z",
     "iopub.status.busy": "2022-06-27T17:46:08.307069Z",
     "iopub.status.idle": "2022-06-27T17:46:08.395091Z",
     "shell.execute_reply": "2022-06-27T17:46:08.394003Z"
    },
    "papermill": {
     "duration": 0.103707,
     "end_time": "2022-06-27T17:46:08.397292",
     "exception": false,
     "start_time": "2022-06-27T17:46:08.293585",
     "status": "completed"
    },
    "tags": []
   },
   "outputs": [
    {
     "name": "stdout",
     "output_type": "stream",
     "text": [
      "Accuracy score 94.15\n"
     ]
    }
   ],
   "source": [
    "svm_rbf = SVC(kernel= 'rbf')\n",
    "svm_rbf.fit(X_train, y_train)\n",
    "pred_svm_rbf = svm_rbf.predict(X_test)\n",
    "\n",
    "# Cross-validation\n",
    "scores = cross_val_score(svm_rbf,X_test,y_test, cv=15)\n",
    "print('Accuracy score',round(scores.mean() * 100,2))"
   ]
  }
 ],
 "metadata": {
  "kernelspec": {
   "display_name": "Python 3",
   "language": "python",
   "name": "python3"
  },
  "language_info": {
   "codemirror_mode": {
    "name": "ipython",
    "version": 3
   },
   "file_extension": ".py",
   "mimetype": "text/x-python",
   "name": "python",
   "nbconvert_exporter": "python",
   "pygments_lexer": "ipython3",
   "version": "3.7.12"
  },
  "papermill": {
   "default_parameters": {},
   "duration": 89.318872,
   "end_time": "2022-06-27T17:46:09.029952",
   "environment_variables": {},
   "exception": null,
   "input_path": "__notebook__.ipynb",
   "output_path": "__notebook__.ipynb",
   "parameters": {},
   "start_time": "2022-06-27T17:44:39.711080",
   "version": "2.3.4"
  }
 },
 "nbformat": 4,
 "nbformat_minor": 5
}
